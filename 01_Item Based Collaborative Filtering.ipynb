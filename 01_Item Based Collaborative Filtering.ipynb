{
 "cells": [
  {
   "cell_type": "markdown",
   "metadata": {},
   "source": [
    "# <center>ITEM BASED COLLABORATIVE FILTERING</center>"
   ]
  },
  {
   "cell_type": "markdown",
   "metadata": {},
   "source": [
    "<img height=\"150\" width=\"600\" src=\"https://miro.medium.com/max/801/1*skK2fqWiBF7weHU8SjuCzw.png\"/>"
   ]
  },
  {
   "cell_type": "markdown",
   "metadata": {},
   "source": [
    "#### There is a famous quote about the customer relationship. The summary of the quote is \"Customers dont know what they want until we show them.\" So recommendation systems will help customers to find information, products and services they might not have thoght of. "
   ]
  },
  {
   "cell_type": "markdown",
   "metadata": {},
   "source": [
    "There are 2 steps involved in item based collaborative filtering.\n",
    "1. Item similarity between multiple items\n",
    "\n",
    "2. Recommendation phase :Recommending movies to the target user using item similarity"
   ]
  },
  {
   "cell_type": "code",
   "execution_count": 1,
   "metadata": {},
   "outputs": [],
   "source": [
    "#import sklearn library\n",
    "import pandas as pd\n",
    "from sklearn.metrics.pairwise import cosine_similarity"
   ]
  },
  {
   "cell_type": "code",
   "execution_count": 2,
   "metadata": {},
   "outputs": [],
   "source": [
    "#dictionary with usernames their watched web series and ratings out of 5\n",
    "\n",
    "dataset={\n",
    "        'Rahul': {'Special Ops': 5,\n",
    "                  'Criminal Justice': 3,\n",
    "                  'Panchayat': 3,\n",
    "                  'Sacred Games': 3,\n",
    "                  'Apharan': 2,\n",
    "                  'Mirzapur': 3},\n",
    "    \n",
    "        'Rishabh': {'Special Ops': 5,\n",
    "                    'Criminal Justice': 3,\n",
    "                    'Sacred Games': 5,\n",
    "                    'Panchayat':5,\n",
    "                    'Mirzapur': 3,\n",
    "                    'Apharan': 3},\n",
    "    \n",
    "        'Sonali': {'Special Ops': 2,\n",
    "                   'Panchayat': 5,\n",
    "                   'Sacred Games': 3,\n",
    "                   'Mirzapur': 4},\n",
    "    \n",
    "        'Ritvik': {'Panchayat': 5,\n",
    "                   'Mirzapur': 4,\n",
    "                   'Sacred Games': 4,},\n",
    "    \n",
    "       'Harshita': {'Special Ops': 4,\n",
    "                    'Criminal Justice': 4,\n",
    "                    'Panchayat': 4,\n",
    "                    'Mirzapur': 3,\n",
    "                    'Apharan': 2},\n",
    "    \n",
    "       'Shubhi': {'Special Ops': 3,\n",
    "                  'Panchayat': 4,\n",
    "                  'Mirzapur': 3,\n",
    "                  'Sacred Games': 5,\n",
    "                  'Apharan': 3},\n",
    "    \n",
    "      'Shaurya': {'Panchayat':4,\n",
    "                  'Apharan':1,\n",
    "                  'Sacred Games':4}}"
   ]
  },
  {
   "cell_type": "markdown",
   "metadata": {},
   "source": [
    "#### What type of object is dataset??"
   ]
  },
  {
   "cell_type": "code",
   "execution_count": 3,
   "metadata": {},
   "outputs": [
    {
     "data": {
      "text/html": [
       "<div>\n",
       "<style scoped>\n",
       "    .dataframe tbody tr th:only-of-type {\n",
       "        vertical-align: middle;\n",
       "    }\n",
       "\n",
       "    .dataframe tbody tr th {\n",
       "        vertical-align: top;\n",
       "    }\n",
       "\n",
       "    .dataframe thead th {\n",
       "        text-align: right;\n",
       "    }\n",
       "</style>\n",
       "<table border=\"1\" class=\"dataframe\">\n",
       "  <thead>\n",
       "    <tr style=\"text-align: right;\">\n",
       "      <th></th>\n",
       "      <th>Rahul</th>\n",
       "      <th>Rishabh</th>\n",
       "      <th>Sonali</th>\n",
       "      <th>Ritvik</th>\n",
       "      <th>Harshita</th>\n",
       "      <th>Shubhi</th>\n",
       "      <th>Shaurya</th>\n",
       "    </tr>\n",
       "  </thead>\n",
       "  <tbody>\n",
       "    <tr>\n",
       "      <th>Special Ops</th>\n",
       "      <td>5</td>\n",
       "      <td>5</td>\n",
       "      <td>2.0</td>\n",
       "      <td>Not Seen Yet</td>\n",
       "      <td>4.0</td>\n",
       "      <td>3.0</td>\n",
       "      <td>Not Seen Yet</td>\n",
       "    </tr>\n",
       "    <tr>\n",
       "      <th>Criminal Justice</th>\n",
       "      <td>3</td>\n",
       "      <td>3</td>\n",
       "      <td>Not Seen Yet</td>\n",
       "      <td>Not Seen Yet</td>\n",
       "      <td>4.0</td>\n",
       "      <td>Not Seen Yet</td>\n",
       "      <td>Not Seen Yet</td>\n",
       "    </tr>\n",
       "    <tr>\n",
       "      <th>Panchayat</th>\n",
       "      <td>3</td>\n",
       "      <td>5</td>\n",
       "      <td>5.0</td>\n",
       "      <td>5.0</td>\n",
       "      <td>4.0</td>\n",
       "      <td>4.0</td>\n",
       "      <td>4.0</td>\n",
       "    </tr>\n",
       "    <tr>\n",
       "      <th>Sacred Games</th>\n",
       "      <td>3</td>\n",
       "      <td>5</td>\n",
       "      <td>3.0</td>\n",
       "      <td>4.0</td>\n",
       "      <td>Not Seen Yet</td>\n",
       "      <td>5.0</td>\n",
       "      <td>4.0</td>\n",
       "    </tr>\n",
       "    <tr>\n",
       "      <th>Apharan</th>\n",
       "      <td>2</td>\n",
       "      <td>3</td>\n",
       "      <td>Not Seen Yet</td>\n",
       "      <td>Not Seen Yet</td>\n",
       "      <td>2.0</td>\n",
       "      <td>3.0</td>\n",
       "      <td>1.0</td>\n",
       "    </tr>\n",
       "    <tr>\n",
       "      <th>Mirzapur</th>\n",
       "      <td>3</td>\n",
       "      <td>3</td>\n",
       "      <td>4.0</td>\n",
       "      <td>4.0</td>\n",
       "      <td>3.0</td>\n",
       "      <td>3.0</td>\n",
       "      <td>Not Seen Yet</td>\n",
       "    </tr>\n",
       "  </tbody>\n",
       "</table>\n",
       "</div>"
      ],
      "text/plain": [
       "                  Rahul  Rishabh        Sonali        Ritvik      Harshita  \\\n",
       "Special Ops           5        5           2.0  Not Seen Yet           4.0   \n",
       "Criminal Justice      3        3  Not Seen Yet  Not Seen Yet           4.0   \n",
       "Panchayat             3        5           5.0           5.0           4.0   \n",
       "Sacred Games          3        5           3.0           4.0  Not Seen Yet   \n",
       "Apharan               2        3  Not Seen Yet  Not Seen Yet           2.0   \n",
       "Mirzapur              3        3           4.0           4.0           3.0   \n",
       "\n",
       "                        Shubhi       Shaurya  \n",
       "Special Ops                3.0  Not Seen Yet  \n",
       "Criminal Justice  Not Seen Yet  Not Seen Yet  \n",
       "Panchayat                  4.0           4.0  \n",
       "Sacred Games               5.0           4.0  \n",
       "Apharan                    3.0           1.0  \n",
       "Mirzapur                   3.0  Not Seen Yet  "
      ]
     },
     "execution_count": 3,
     "metadata": {},
     "output_type": "execute_result"
    }
   ],
   "source": [
    "#create a data frame of this dataset\n",
    "dataset_df=pd.DataFrame(dataset)\n",
    "#print(dataset_df)\n",
    "dataset_df.fillna(\"Not Seen Yet\",inplace=True)\n",
    "dataset_df"
   ]
  },
  {
   "cell_type": "code",
   "execution_count": 4,
   "metadata": {},
   "outputs": [],
   "source": [
    "# custom function to create unique set of web series\n",
    "\n",
    "def unique_items():\n",
    "    unique_items_list = []\n",
    "    for person in dataset.keys():\n",
    "        for items in dataset[person]:\n",
    "            unique_items_list.append(items)\n",
    "    s=set(unique_items_list)\n",
    "    unique_items_list=list(s)\n",
    "    return unique_items_list"
   ]
  },
  {
   "cell_type": "code",
   "execution_count": 5,
   "metadata": {},
   "outputs": [
    {
     "data": {
      "text/plain": [
       "['Sacred Games',\n",
       " 'Panchayat',\n",
       " 'Mirzapur',\n",
       " 'Special Ops',\n",
       " 'Apharan',\n",
       " 'Criminal Justice']"
      ]
     },
     "execution_count": 5,
     "metadata": {},
     "output_type": "execute_result"
    }
   ],
   "source": [
    "unique_items()"
   ]
  },
  {
   "attachments": {
    "cosine-similarity.png": {
     "image/png": "[encoded data removed]"
    }
   },
   "cell_type": "markdown",
   "metadata": {},
   "source": [
    "![cosine-similarity.png](attachment:cosine-similarity.png)"
   ]
  },
  {
   "cell_type": "code",
   "execution_count": 6,
   "metadata": {},
   "outputs": [],
   "source": [
    "# custom function to implement cosine similarity between two items i.e. web series\n",
    "\n",
    "def item_similarity(item1,item2):\n",
    "    both_rated = {}\n",
    "    for person in dataset.keys():\n",
    "        if item1 in dataset[person] and item2 in dataset[person]:\n",
    "            both_rated[person] = [dataset[person][item1],dataset[person][item2]]\n",
    "\n",
    "    #print(both_rated)\n",
    "    number_of_ratings = len(both_rated)\n",
    "    if number_of_ratings == 0:\n",
    "        return 0\n",
    "\n",
    "    item1_ratings = [[dataset[k][item1] for k,v in both_rated.items() if item1 in dataset[k] and item2 in dataset[k]]]\n",
    "    item2_ratings = [[dataset[k][item2] for k, v in both_rated.items() if item1 in dataset[k] and item2 in dataset[k]]]\n",
    "    #print(\"{} ratings :: {}\".format(item1,item1_ratings))\n",
    "    #print(\"{} ratings :: {}\".format(item2,item2_ratings))\n",
    "    cs = cosine_similarity(item1_ratings,item2_ratings)\n",
    "    print( item1,',', item2, 'and rating vectors:', item1_ratings,item2_ratings,'similarity score is ', format(cs[0][0],'.5f'))\n",
    "    return cs[0][0]"
   ]
  },
  {
   "cell_type": "code",
   "execution_count": 7,
   "metadata": {},
   "outputs": [
    {
     "name": "stdout",
     "output_type": "stream",
     "text": [
      "Panchayat , Special Ops and rating vectors: [[3, 5, 5, 4, 4]] [[5, 5, 2, 4, 3]] similarity score is  0.91994\n"
     ]
    },
    {
     "data": {
      "text/plain": [
       "0.9199418174856335"
      ]
     },
     "execution_count": 7,
     "metadata": {},
     "output_type": "execute_result"
    }
   ],
   "source": [
    "item_similarity('Panchayat','Special Ops')"
   ]
  },
  {
   "cell_type": "markdown",
   "metadata": {},
   "source": [
    "## Phase 1: Item Similarity between multiple items"
   ]
  },
  {
   "cell_type": "code",
   "execution_count": 8,
   "metadata": {},
   "outputs": [],
   "source": [
    "#custom function to check most similar items \n",
    "\n",
    "def most_similar_items(target_item):\n",
    "    un_lst=unique_items()\n",
    "    scores = [(item_similarity(target_item,other_item),target_item+\" --> \"+other_item) for other_item in un_lst if other_item!=target_item]\n",
    "    scores.sort(reverse=True)\n",
    "    return scores"
   ]
  },
  {
   "cell_type": "code",
   "execution_count": 9,
   "metadata": {},
   "outputs": [
    {
     "name": "stdout",
     "output_type": "stream",
     "text": [
      "Panchayat , Sacred Games and rating vectors: [[3, 5, 5, 5, 4, 4]] [[3, 5, 3, 4, 5, 4]] similarity score is  0.97490\n",
      "Panchayat , Mirzapur and rating vectors: [[3, 5, 5, 5, 4, 4]] [[3, 3, 4, 4, 3, 3]] similarity score is  0.99083\n",
      "Panchayat , Special Ops and rating vectors: [[3, 5, 5, 4, 4]] [[5, 5, 2, 4, 3]] similarity score is  0.91994\n",
      "Panchayat , Apharan and rating vectors: [[3, 5, 4, 4, 4]] [[2, 3, 2, 3, 1]] similarity score is  0.95637\n",
      "Panchayat , Criminal Justice and rating vectors: [[3, 5, 4]] [[3, 3, 4]] similarity score is  0.97014\n",
      "[(0.990830168044299, 'Panchayat --> Mirzapur'), (0.9749005254295223, 'Panchayat --> Sacred Games'), (0.9701425001453318, 'Panchayat --> Criminal Justice'), (0.9563650695950073, 'Panchayat --> Apharan'), (0.9199418174856335, 'Panchayat --> Special Ops')]\n"
     ]
    }
   ],
   "source": [
    "print(most_similar_items('Panchayat'))"
   ]
  },
  {
   "cell_type": "code",
   "execution_count": 10,
   "metadata": {},
   "outputs": [],
   "source": [
    "#custom function to filter the seen movies and unseen movies of the target user\n",
    "\n",
    "def target_movies_to_users(target_person):\n",
    "    target_person_movie_lst = []\n",
    "    unique_list =unique_items()\n",
    "    for movies in dataset[target_person]:\n",
    "        target_person_movie_lst.append(movies)\n",
    "\n",
    "    s=set(unique_list)\n",
    "    recommended_movies=list(s.difference(target_person_movie_lst))\n",
    "    a = len(recommended_movies)\n",
    "    if a == 0:\n",
    "        return 0\n",
    "    return recommended_movies,target_person_movie_lst"
   ]
  },
  {
   "cell_type": "code",
   "execution_count": 11,
   "metadata": {},
   "outputs": [
    {
     "name": "stdout",
     "output_type": "stream",
     "text": [
      "      Unseen Movies   Seen Movies\n",
      "0       Special Ops     Panchayat\n",
      "1  Criminal Justice      Mirzapur\n",
      "2           Apharan  Sacred Games\n"
     ]
    }
   ],
   "source": [
    "# function check\n",
    "\n",
    "unseen_movies,seen_movies=target_movies_to_users('Ritvik')\n",
    "\n",
    "dct = {\"Unseen Movies\":unseen_movies,\"Seen Movies\":seen_movies}\n",
    "print(pd.DataFrame(dct))"
   ]
  },
  {
   "cell_type": "markdown",
   "metadata": {},
   "source": [
    "## Phase 2: Recommendation Phase :: recommending movies to the target user on behalf of item similarity"
   ]
  },
  {
   "cell_type": "code",
   "execution_count": 12,
   "metadata": {},
   "outputs": [],
   "source": [
    "#For each unseen movie of the target user the similarity between each watched movie and unwatched movie is \n",
    "#computed and weighed rank is given\n",
    "def recommendation_phase(target_person):\n",
    "    if target_movies_to_users(target_person=target_person) == 0:\n",
    "        print(target_person, \"has seen all the movies\")\n",
    "        return -1\n",
    "    not_seen_movies,seen_movies=target_movies_to_users(target_person=target_person)\n",
    "    seen_ratings = [[dataset[target_person][movies],movies] for movies in dataset[target_person]]\n",
    "    print('Seen ratings ::', seen_ratings)\n",
    "    print('*********************')\n",
    "    weighted_avg,weighted_sim = 0,0\n",
    "    rankings =[]\n",
    "    for i in not_seen_movies:\n",
    "        for rate,movie in seen_ratings:\n",
    "            item_sim=item_similarity(i,movie)\n",
    "            weighted_avg +=(item_sim*rate)\n",
    "            weighted_sim +=item_sim\n",
    "        weighted_rank=weighted_avg/weighted_sim\n",
    "        rankings.append([weighted_rank,i])\n",
    "\n",
    "    rankings.sort(reverse=True)\n",
    "    return rankings"
   ]
  },
  {
   "cell_type": "code",
   "execution_count": 13,
   "metadata": {},
   "outputs": [
    {
     "name": "stdout",
     "output_type": "stream",
     "text": [
      "Enter the target person\n",
      "Ritvik\n",
      "**************************************\n",
      "      Unseen Movies   Seen Movies\n",
      "0       Special Ops     Panchayat\n",
      "1  Criminal Justice      Mirzapur\n",
      "2           Apharan  Sacred Games\n",
      "**************************************\n",
      "Seen ratings :: [[5, 'Panchayat'], [4, 'Mirzapur'], [4, 'Sacred Games']]\n",
      "*********************\n",
      "Special Ops , Panchayat and rating vectors: [[5, 5, 2, 4, 3]] [[3, 5, 5, 4, 4]] similarity score is  0.91994\n",
      "Special Ops , Mirzapur and rating vectors: [[5, 5, 2, 4, 3]] [[3, 3, 4, 3, 3]] similarity score is  0.92053\n",
      "Special Ops , Sacred Games and rating vectors: [[5, 5, 2, 3]] [[3, 5, 3, 5]] similarity score is  0.93198\n",
      "Criminal Justice , Panchayat and rating vectors: [[3, 3, 4]] [[3, 5, 4]] similarity score is  0.97014\n",
      "Criminal Justice , Mirzapur and rating vectors: [[3, 3, 4]] [[3, 3, 3]] similarity score is  0.99015\n",
      "Criminal Justice , Sacred Games and rating vectors: [[3, 3]] [[3, 5]] similarity score is  0.97014\n",
      "Apharan , Panchayat and rating vectors: [[2, 3, 2, 3, 1]] [[3, 5, 4, 4, 4]] similarity score is  0.95637\n",
      "Apharan , Mirzapur and rating vectors: [[2, 3, 2, 3]] [[3, 3, 3, 3]] similarity score is  0.98058\n",
      "Apharan , Sacred Games and rating vectors: [[2, 3, 3, 1]] [[3, 5, 5, 4]] similarity score is  0.96309\n",
      "Recommendation Using Item based Collaborative Filtering:  \n",
      "Special Ops  --->  4.331815933576615\n",
      "Criminal Justice  --->  4.331426356647129\n",
      "Apharan  --->  4.330870479797319\n"
     ]
    }
   ],
   "source": [
    "print(\"Enter the target person\")\n",
    "tp = input().title()\n",
    "unseen_movies,seen_movies=target_movies_to_users(tp)\n",
    "dct = {\"Unseen Movies\":unseen_movies,\"Seen Movies\":seen_movies}\n",
    "print('**************************************')\n",
    "print(pd.DataFrame(dct))\n",
    "print('**************************************')\n",
    "if tp in dataset.keys():\n",
    "    a=recommendation_phase(tp)\n",
    "    if a != -1:\n",
    "        print(\"Recommendation Using Item based Collaborative Filtering:  \")\n",
    "        for w,m in a:\n",
    "            print(m,\" ---> \",w)\n",
    "else:\n",
    "    print(\"Person not found in the dataset..please try again\")"
   ]
  },
  {
   "cell_type": "code",
   "execution_count": null,
   "metadata": {},
   "outputs": [],
   "source": []
  }
 ],
 "metadata": {
  "kernelspec": {
   "display_name": "Python 3 (ipykernel)",
   "language": "python",
   "name": "python3"
  },
  "language_info": {
   "codemirror_mode": {
    "name": "ipython",
    "version": 3
   },
   "file_extension": ".py",
   "mimetype": "text/x-python",
   "name": "python",
   "nbconvert_exporter": "python",
   "pygments_lexer": "ipython3",
   "version": "3.8.5"
  }
 },
 "nbformat": 4,
 "nbformat_minor": 2
}
