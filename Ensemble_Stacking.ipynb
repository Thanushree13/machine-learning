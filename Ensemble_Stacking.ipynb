{
  "nbformat": 4,
  "nbformat_minor": 0,
  "metadata": {
    "colab": {
      "provenance": []
    },
    "kernelspec": {
      "name": "python3",
      "display_name": "Python 3"
    },
    "language_info": {
      "name": "python"
    }
  },
  "cells": [
    {
      "cell_type": "markdown",
      "source": [
        "TO DO:\n",
        "1. Use sklearn's \"diabetes dataset\" and implement a stacking regressor.\n",
        "2. Compare the results with linear regression model. "
      ],
      "metadata": {
        "id": "wmwa-msbH9tQ"
      }
    }
  ]
}