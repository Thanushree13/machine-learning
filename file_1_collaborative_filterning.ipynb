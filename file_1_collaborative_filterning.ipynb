{
  "nbformat": 4,
  "nbformat_minor": 0,
  "metadata": {
    "colab": {
      "provenance": [],
      "collapsed_sections": []
    },
    "kernelspec": {
      "name": "python3",
      "display_name": "Python 3"
    },
    "language_info": {
      "name": "python"
    }
  },
  "cells": [
    {
      "cell_type": "markdown",
      "source": [
        "## TO DO:\n",
        "1. Create a matrix (NumPy array) of random integers ranging from 0 to 5. Set the size of the matrix to be (35000, 250)\n",
        "2. Convert this NumPy array to pandas dataframe.\n",
        "3. Name the columns as : ['movie_1', 'movie_2', 'movie_3', 'movie_4', 'movie_5'].\n",
        "4. Create a matrix of size (1,250) for a new user who has not seen the first movie.\n",
        "5. Calculate the cosine similarity for an arbitrary user with users in the dataset and save the result in a matrix. (HINT: write a function to calculate cosine similarity between two vectors.)\n",
        "6. Predict the review rating of the new user for the first movie.\n",
        "\n"
      ],
      "metadata": {
        "id": "b9vrxXtxGhpQ"
      }
    }
  ]
}