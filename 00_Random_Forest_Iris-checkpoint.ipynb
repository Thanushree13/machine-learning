{
 "cells": [
  {
   "cell_type": "code",
   "execution_count": null,
   "id": "9f83d17d",
   "metadata": {},
   "outputs": [],
   "source": []
  },
  {
   "cell_type": "markdown",
   "id": "809fb2c2",
   "metadata": {},
   "source": [
    "## Bagging and Random Forest Models"
   ]
  },
  {
   "cell_type": "markdown",
   "id": "698cf9dd",
   "metadata": {},
   "source": [
    "\n",
    "Using ensemble methods can greatly improve the results achieved with weak machine learning algorithms, also called weak learners. Ensemble methods achieve better performance by aggregating the results of many statistically independent models. This process averages out the errors and produces a final better prediction.\n",
    "\n",
    "In this lab you will work with a widely used ensemble method known as bootstrap aggregating or simply bagging. Bagging follows a simple procedure:\n",
    "\n",
    "* N learners (machine learning models) are defined.\n",
    "* N subsamples of the training data are created by Bernoulli sampling with replacement.\n",
    "* The N learners are trained on the subsamples of the training data.\n",
    "* The ensemble is scored by averaging, or taking a majority vote, of the predictions from the N learners.\n",
    "\n",
    "Classification and regression tree models are most typically used with bagging methods. The most common such algorithm is know as the random forest. The random forest method is highly scalable and generally produces good results, even for complex problems.\n",
    "\n",
    "Classification and regression trees tend to be robust to noise or outliers in the training data. This is true for the random forest algorithm as well."
   ]
  },
  {
   "cell_type": "markdown",
   "id": "2b997132",
   "metadata": {},
   "source": [
    "Example: Iris dataset\n",
    "\n",
    "\n",
    "As a first example you will use random forest to classify the species of iris flowers.\n",
    "\n",
    "* In this lab we implement Random forest algorithm on iris dataset.\n",
    "\n",
    "* We will consider another implementation with reduced number of features."
   ]
  },
  {
   "cell_type": "markdown",
   "id": "74cff8b5",
   "metadata": {},
   "source": [
    "Before proceeding onto the lab can we recall the following?\n",
    "\n",
    "1. What are different ensembling methods?\n",
    "2. Why bagging should give better results? \n",
    "3. Why is the name ?\n",
    "4. What is sample and replace?\n",
    "5. Is it parallel execution?\n",
    "6. What are the hyper parameters?\n",
    "7. We know that decision trees are known for their explainability. Now can we explain the random forests?\n",
    "\n",
    "\n",
    "8. What is out of bag error?\n",
    "9. How is randomly selection of subset of features is helpful?"
   ]
  },
  {
   "cell_type": "code",
   "execution_count": 1,
   "id": "3b010b3b",
   "metadata": {},
   "outputs": [],
   "source": [
    "from sklearn.ensemble import RandomForestClassifier\n",
    "from sklearn import preprocessing\n",
    "from sklearn import datasets ## Get dataset from sklearn\n",
    "import sklearn.model_selection as ms\n",
    "import sklearn.metrics as sklm\n",
    "import matplotlib.pyplot as plt\n",
    "import pandas as pd\n",
    "import numpy as np\n",
    "import numpy.random as nr\n",
    "\n",
    "%matplotlib inline"
   ]
  },
  {
   "cell_type": "markdown",
   "id": "19f76f02",
   "metadata": {},
   "source": [
    "### Plot the types of species for different combinations of features"
   ]
  },
  {
   "cell_type": "code",
   "execution_count": 6,
   "id": "39a332ac",
   "metadata": {},
   "outputs": [
    {
     "ename": "TypeError",
     "evalue": "unhashable type: 'slice'",
     "output_type": "error",
     "traceback": [
      "\u001b[1;31m---------------------------------------------------------------------------\u001b[0m",
      "\u001b[1;31mTypeError\u001b[0m                                 Traceback (most recent call last)",
      "Input \u001b[1;32mIn [6]\u001b[0m, in \u001b[0;36m<cell line: 19>\u001b[1;34m()\u001b[0m\n\u001b[0;32m     17\u001b[0m \u001b[38;5;66;03m## Import the dataset from sklearn.datasets\u001b[39;00m\n\u001b[0;32m     18\u001b[0m iris \u001b[38;5;241m=\u001b[39m datasets\u001b[38;5;241m.\u001b[39mload_iris()\n\u001b[1;32m---> 19\u001b[0m \u001b[38;5;28mprint\u001b[39m(\u001b[43miris\u001b[49m\u001b[43m[\u001b[49m\u001b[38;5;241;43m0\u001b[39;49m\u001b[43m:\u001b[49m\u001b[38;5;241;43m5\u001b[39;49m\u001b[43m,\u001b[49m\u001b[38;5;124;43m'\u001b[39;49m\u001b[38;5;124;43mdata\u001b[39;49m\u001b[38;5;124;43m'\u001b[39;49m\u001b[43m]\u001b[49m)\n\u001b[0;32m     20\u001b[0m \u001b[38;5;66;03m#print('Type', type(iris))\u001b[39;00m\n\u001b[0;32m     21\u001b[0m \u001b[38;5;66;03m## Create a data frame from the dictionary\u001b[39;00m\n\u001b[0;32m     22\u001b[0m species \u001b[38;5;241m=\u001b[39m [iris\u001b[38;5;241m.\u001b[39mtarget_names[x] \u001b[38;5;28;01mfor\u001b[39;00m x \u001b[38;5;129;01min\u001b[39;00m iris\u001b[38;5;241m.\u001b[39mtarget]\n",
      "\u001b[1;31mTypeError\u001b[0m: unhashable type: 'slice'"
     ]
    }
   ],
   "source": [
    "def plot_iris(iris):\n",
    "    '''Function to plot iris data by type'''\n",
    "    setosa = iris[iris['Species'] == 'setosa']\n",
    "    versicolor = iris[iris['Species'] == 'versicolor']\n",
    "    virginica = iris[iris['Species'] == 'virginica']\n",
    "    fig, ax = plt.subplots(2, 2, figsize=(12,12))\n",
    "    x_ax = ['Sepal_Length', 'Sepal_Width']\n",
    "    y_ax = ['Petal_Length', 'Petal_Width']\n",
    "    for i in range(2):\n",
    "        for j in range(2):\n",
    "            ax[i,j].scatter(setosa[x_ax[i]], setosa[y_ax[j]], marker = 'x')\n",
    "            ax[i,j].scatter(versicolor[x_ax[i]], versicolor[y_ax[j]], marker = 'o')\n",
    "            ax[i,j].scatter(virginica[x_ax[i]], virginica[y_ax[j]], marker = '+')\n",
    "            ax[i,j].set_xlabel(x_ax[i])\n",
    "            ax[i,j].set_ylabel(y_ax[j])\n",
    "            \n",
    "## Import the dataset from sklearn.datasets\n",
    "iris = datasets.load_iris()\n",
    "#print('Type', type(iris))\n",
    "## Create a data frame from the dictionary\n",
    "species = [iris.target_names[x] for x in iris.target]\n",
    "iris = pd.DataFrame(iris['data'], columns = ['Sepal_Length', 'Sepal_Width', 'Petal_Length', 'Petal_Width'])\n",
    "iris['Species'] = species\n",
    "\n",
    "## Plot views of the iris data            \n",
    "plot_iris(iris) "
   ]
  },
  {
   "cell_type": "code",
   "execution_count": 4,
   "id": "f6b43258",
   "metadata": {},
   "outputs": [
    {
     "data": {
      "text/html": [
       "<div>\n",
       "<style scoped>\n",
       "    .dataframe tbody tr th:only-of-type {\n",
       "        vertical-align: middle;\n",
       "    }\n",
       "\n",
       "    .dataframe tbody tr th {\n",
       "        vertical-align: top;\n",
       "    }\n",
       "\n",
       "    .dataframe thead th {\n",
       "        text-align: right;\n",
       "    }\n",
       "</style>\n",
       "<table border=\"1\" class=\"dataframe\">\n",
       "  <thead>\n",
       "    <tr style=\"text-align: right;\">\n",
       "      <th></th>\n",
       "      <th>Sepal_Length</th>\n",
       "      <th>Sepal_Width</th>\n",
       "      <th>Petal_Length</th>\n",
       "      <th>Petal_Width</th>\n",
       "      <th>Species</th>\n",
       "    </tr>\n",
       "  </thead>\n",
       "  <tbody>\n",
       "    <tr>\n",
       "      <th>0</th>\n",
       "      <td>5.1</td>\n",
       "      <td>3.5</td>\n",
       "      <td>1.4</td>\n",
       "      <td>0.2</td>\n",
       "      <td>setosa</td>\n",
       "    </tr>\n",
       "    <tr>\n",
       "      <th>1</th>\n",
       "      <td>4.9</td>\n",
       "      <td>3.0</td>\n",
       "      <td>1.4</td>\n",
       "      <td>0.2</td>\n",
       "      <td>setosa</td>\n",
       "    </tr>\n",
       "    <tr>\n",
       "      <th>2</th>\n",
       "      <td>4.7</td>\n",
       "      <td>3.2</td>\n",
       "      <td>1.3</td>\n",
       "      <td>0.2</td>\n",
       "      <td>setosa</td>\n",
       "    </tr>\n",
       "    <tr>\n",
       "      <th>3</th>\n",
       "      <td>4.6</td>\n",
       "      <td>3.1</td>\n",
       "      <td>1.5</td>\n",
       "      <td>0.2</td>\n",
       "      <td>setosa</td>\n",
       "    </tr>\n",
       "    <tr>\n",
       "      <th>4</th>\n",
       "      <td>5.0</td>\n",
       "      <td>3.6</td>\n",
       "      <td>1.4</td>\n",
       "      <td>0.2</td>\n",
       "      <td>setosa</td>\n",
       "    </tr>\n",
       "  </tbody>\n",
       "</table>\n",
       "</div>"
      ],
      "text/plain": [
       "   Sepal_Length  Sepal_Width  Petal_Length  Petal_Width Species\n",
       "0           5.1          3.5           1.4          0.2  setosa\n",
       "1           4.9          3.0           1.4          0.2  setosa\n",
       "2           4.7          3.2           1.3          0.2  setosa\n",
       "3           4.6          3.1           1.5          0.2  setosa\n",
       "4           5.0          3.6           1.4          0.2  setosa"
      ]
     },
     "execution_count": 4,
     "metadata": {},
     "output_type": "execute_result"
    }
   ],
   "source": [
    "iris.head()"
   ]
  },
  {
   "cell_type": "markdown",
   "id": "4c353e8a",
   "metadata": {},
   "source": [
    "Observation :\n",
    "--------------------\n",
    " You can see that Setosa (in blue) is well separated from the other two categories. The Versicolor (in orange) and the Virginica (in green) show considerable overlap. The question is how well our classifier will separate these categories.\n",
    "\n",
    " Scikit Learn classifiers require numerically coded numpy arrays for the features and as a label. The code in the cell below does the following processing. Creates a numpy array of the features.\n",
    "\n",
    "Numerically codes the label using a dictionary lookup, and converts it to a numpy array."
   ]
  },
  {
   "cell_type": "code",
   "execution_count": 11,
   "id": "24ec3edb",
   "metadata": {},
   "outputs": [
    {
     "name": "stdout",
     "output_type": "stream",
     "text": [
      "(150, 4)\n",
      "[[4.9 3.  1.4 0.2]\n",
      " [4.7 3.2 1.3 0.2]\n",
      " [4.6 3.1 1.5 0.2]\n",
      " [5.  3.6 1.4 0.2]]\n"
     ]
    }
   ],
   "source": [
    "Features = np.array(iris[['Sepal_Length', 'Sepal_Width', 'Petal_Length', 'Petal_Width']])\n",
    "\n",
    "levels = {'setosa':0, 'versicolor':1, 'virginica':2}\n",
    "Labels =  np.array([levels[x] for x in iris['Species']])\n",
    "print(Features.shape)\n",
    "print(Features[1:5,:])"
   ]
  },
  {
   "cell_type": "code",
   "execution_count": 12,
   "id": "1f874380",
   "metadata": {},
   "outputs": [],
   "source": [
    "## Randomly sample cases to create independent training and test data\n",
    "nr.seed(1115)\n",
    "indx = range(Features.shape[0])\n",
    "indx = ms.train_test_split(indx, test_size = 100)\n",
    "X_train = Features[indx[0],:]\n",
    "y_train = np.ravel(Labels[indx[0]])\n",
    "X_test = Features[indx[1],:]\n",
    "y_test = np.ravel(Labels[indx[1]])"
   ]
  },
  {
   "cell_type": "markdown",
   "id": "cc77157e",
   "metadata": {},
   "source": [
    "As is always the case with machine learning, numeric features must be scaled. The code in the cell below performs the following processing:\n",
    "\n",
    "* A Zscore scale object is defined using the StandarScaler function from the Scikit Learn preprocessing package.\n",
    "\n",
    "* The scaler is fit to the training features. Subsequently, this scaler is used to apply the same scaling to the test data and in production.\n",
    "* The training features are scaled using the transform method."
   ]
  },
  {
   "cell_type": "code",
   "execution_count": 13,
   "id": "3f1b07cf",
   "metadata": {},
   "outputs": [],
   "source": [
    "scale = preprocessing.StandardScaler()\n",
    "scale.fit(X_train)\n",
    "X_train = scale.transform(X_train)"
   ]
  },
  {
   "cell_type": "code",
   "execution_count": 14,
   "id": "a06feafd",
   "metadata": {},
   "outputs": [
    {
     "data": {
      "text/plain": [
       "RandomForestClassifier(n_estimators=5)"
      ]
     },
     "execution_count": 14,
     "metadata": {},
     "output_type": "execute_result"
    }
   ],
   "source": [
    "nr.seed(444)\n",
    "rf_clf = RandomForestClassifier(n_estimators=5)\n",
    "rf_clf.fit(X_train, y_train)"
   ]
  },
  {
   "cell_type": "code",
   "execution_count": 15,
   "id": "5f09c5e1",
   "metadata": {},
   "outputs": [],
   "source": [
    "X_test = scale.transform(X_test)\n",
    "scores = rf_clf.predict(X_test)"
   ]
  },
  {
   "cell_type": "markdown",
   "id": "b59bec96",
   "metadata": {},
   "source": [
    "It is time to evaluate the model results. Keep in mind that the problem has been made difficult deliberately, by having more test cases than training cases.\n",
    "\n",
    "The iris data has three species categories. Therefore it is necessary to use evaluation code for a three category problem. "
   ]
  },
  {
   "cell_type": "code",
   "execution_count": 16,
   "id": "5e8f09ed",
   "metadata": {},
   "outputs": [
    {
     "name": "stdout",
     "output_type": "stream",
     "text": [
      "                 Confusion matrix\n",
      "                 Score Setosa   Score Versicolor    Score Virginica\n",
      "Actual Setosa          35                0                 0\n",
      "Actual Versicolor       0               30                 4\n",
      "Actual Vriginica        0                2                29\n",
      "\n",
      "Accuracy        0.94\n",
      " \n",
      "          Setosa  Versicolor  Virginica\n",
      "Num case   35.00     34.00      31.00\n",
      "Precision   1.00      0.94       0.88\n",
      "Recall      1.00      0.88       0.94\n",
      "F1          1.00      0.91       0.91\n"
     ]
    }
   ],
   "source": [
    "def print_metrics_3(labels, scores):\n",
    "   \n",
    "    conf = sklm.confusion_matrix(labels, scores)\n",
    "    print('                 Confusion matrix')\n",
    "    print('                 Score Setosa   Score Versicolor    Score Virginica')\n",
    "    print('Actual Setosa      %6d' % conf[0,0] + '            %5d' % conf[0,1] + '             %5d' % conf[0,2])\n",
    "    print('Actual Versicolor  %6d' % conf[1,0] + '            %5d' % conf[1,1] + '             %5d' % conf[1,2])\n",
    "    print('Actual Vriginica   %6d' % conf[2,0] + '            %5d' % conf[2,1] + '             %5d' % conf[2,2])\n",
    "    ## Now compute and display the accuracy and metrics\n",
    "    print('')\n",
    "    print('Accuracy        %0.2f' % sklm.accuracy_score(labels, scores))\n",
    "    metrics = sklm.precision_recall_fscore_support(labels, scores)\n",
    "    print(' ')\n",
    "    print('          Setosa  Versicolor  Virginica')\n",
    "    print('Num case   %0.2f' % metrics[3][0] + '     %0.2f' % metrics[3][1] + '      %0.2f' % metrics[3][2])\n",
    "    print('Precision   %0.2f' % metrics[0][0] + '      %0.2f' % metrics[0][1] + '       %0.2f' % metrics[0][2])\n",
    "    print('Recall      %0.2f' % metrics[1][0] + '      %0.2f' % metrics[1][1] + '       %0.2f' % metrics[1][2])\n",
    "    print('F1          %0.2f' % metrics[2][0] + '      %0.2f' % metrics[2][1] + '       %0.2f' % metrics[2][2])\n",
    "    \n",
    "print_metrics_3(y_test, scores)    "
   ]
  },
  {
   "cell_type": "markdown",
   "id": "347e2472",
   "metadata": {},
   "source": [
    "### Looking above matrix how many False Negative are there  Versicolor species? "
   ]
  },
  {
   "cell_type": "markdown",
   "id": "d4e6e21d",
   "metadata": {},
   "source": [
    "Examine these results. Notice the following:\n",
    "\n",
    "The confusion matrix has dimension 3X3. You can see that most cases are correctly classified with only a few errors.\n",
    "The overall accuracy is 0.94. Since the classes are roughly balanced, this metric indicates relatively good performance of the classifier, particularly since it was only trained on 50 cases.\n",
    "\n",
    "The precision, recall and F1 for each of the classes is quite good. | To get a better feel for what the classifier is doing, the code in the cell below displays a set of plots showing correctly (as '+') and incorrectly (as 'o') cases, with the species color-coded. Execute this code and examine the results."
   ]
  },
  {
   "cell_type": "code",
   "execution_count": 17,
   "id": "69048215",
   "metadata": {},
   "outputs": [
    {
     "data": {
      "image/png": "[encoded data removed]",
      "text/plain": [
       "<Figure size 864x864 with 4 Axes>"
      ]
     },
     "metadata": {
      "needs_background": "light"
     },
     "output_type": "display_data"
    }
   ],
   "source": [
    "def plot_iris_score(iris, y_test, scores):\n",
    "    '''Function to plot iris data by type'''\n",
    "    ## Find correctly and incorrectly classified cases\n",
    "    true = np.equal(scores, y_test).astype(int)\n",
    "    \n",
    "    ## Create data frame from the test data\n",
    "    iris = pd.DataFrame(iris)\n",
    "\n",
    "    levels = {0:'setosa', 1:'versicolor', 2:'virginica'}\n",
    "    iris['Species'] = [levels[x] for x in y_test]\n",
    "    iris.columns = ['Sepal_Length', 'Sepal_Width', 'Petal_Length', 'Petal_Width', 'Species']\n",
    "    \n",
    "    ## Set up for the plot\n",
    "    fig, ax = plt.subplots(2, 2, figsize=(12,12))\n",
    "    markers = ['o', '+']\n",
    "    x_ax = ['Sepal_Length', 'Sepal_Width']\n",
    "    y_ax = ['Petal_Length', 'Petal_Width']\n",
    "    \n",
    "    for t in range(2): # loop over correct and incorect classifications\n",
    "        setosa = iris[(iris['Species'] == 'setosa') & (true == t)]\n",
    "        versicolor = iris[(iris['Species'] == 'versicolor') & (true == t)]\n",
    "        virginica = iris[(iris['Species'] == 'virginica') & (true == t)]\n",
    "        # loop over all the dimensions\n",
    "        for i in range(2):\n",
    "            for j in range(2):\n",
    "                ax[i,j].scatter(setosa[x_ax[i]], setosa[y_ax[j]], marker = markers[t], color = 'blue')\n",
    "                ax[i,j].scatter(versicolor[x_ax[i]], versicolor[y_ax[j]], marker = markers[t], color = 'orange')\n",
    "                ax[i,j].scatter(virginica[x_ax[i]], virginica[y_ax[j]], marker = markers[t], color = 'green')\n",
    "                ax[i,j].set_xlabel(x_ax[i])\n",
    "                ax[i,j].set_ylabel(y_ax[j])\n",
    "\n",
    "plot_iris_score(X_test, y_test, scores)"
   ]
  },
  {
   "cell_type": "markdown",
   "id": "5bbbb180",
   "metadata": {},
   "source": [
    "Observation: \n",
    "------------------\n",
    "Examine these plots. You can see how the classifier has divided the feature space between the classes. Notice that most of the errors occur in the overlap region between Virginica and Versicolor. This behavior is to be expected.\n",
    "\n",
    "Is it possible that a random forest model with more trees would separate these cases better? The code in the cell below uses a model with 40 trees (estimators). This model is fit with the training data and displays the evaluation of the model."
   ]
  },
  {
   "cell_type": "code",
   "execution_count": 20,
   "id": "acca9940",
   "metadata": {},
   "outputs": [
    {
     "name": "stdout",
     "output_type": "stream",
     "text": [
      "___________________________________\n",
      "*****OOB Score *** 0.92\n",
      "___________________________________\n",
      "                 Confusion matrix\n",
      "                 Score Setosa   Score Versicolor    Score Virginica\n",
      "Actual Setosa          35                0                 0\n",
      "Actual Versicolor       0               32                 2\n",
      "Actual Vriginica        0                3                28\n",
      "\n",
      "Accuracy        0.95\n",
      " \n",
      "          Setosa  Versicolor  Virginica\n",
      "Num case   35.00     34.00      31.00\n",
      "Precision   1.00      0.91       0.93\n",
      "Recall      1.00      0.94       0.90\n",
      "F1          1.00      0.93       0.92\n"
     ]
    },
    {
     "data": {
      "image/png": "[encoded data removed]",
      "text/plain": [
       "<Figure size 864x864 with 4 Axes>"
      ]
     },
     "metadata": {
      "needs_background": "light"
     },
     "output_type": "display_data"
    }
   ],
   "source": [
    "nr.seed(444)\n",
    "rf_clf = RandomForestClassifier(n_estimators=40, oob_score=True)\n",
    "rf_clf.fit(X_train, y_train)\n",
    "print('___________________________________')\n",
    "print('          OOB Score         ', rf_clf.oob_score_)\n",
    "print('___________________________________')\n",
    "scores = rf_clf.predict(X_test)\n",
    "print_metrics_3(y_test, scores) \n",
    "plot_iris_score(X_test, y_test, scores)"
   ]
  },
  {
   "cell_type": "markdown",
   "id": "7970ede1",
   "metadata": {},
   "source": [
    "These results are slightly better than for the model with 5 trees. However, this small difference in performance is unlikely to be significant.\n",
    "\n",
    "Like most tree-based models, random forest models have a nice property that feature importance is computed during model training. Feature importance can be used as a feature selection method.\n",
    "\n",
    "Execute the code in the cell below to display a plot of the feature importance."
   ]
  },
  {
   "cell_type": "markdown",
   "id": "1b82d65f",
   "metadata": {},
   "source": [
    "## Displaying the importance of the feature "
   ]
  },
  {
   "cell_type": "code",
   "execution_count": 11,
   "id": "a6f43efb",
   "metadata": {},
   "outputs": [
    {
     "data": {
      "text/plain": [
       "Text(0, 0.5, 'Feature importance')"
      ]
     },
     "execution_count": 11,
     "metadata": {},
     "output_type": "execute_result"
    },
    {
     "data": {
      "image/png": "[encoded data removed]",
      "text/plain": [
       "<Figure size 432x288 with 1 Axes>"
      ]
     },
     "metadata": {
      "needs_background": "light"
     },
     "output_type": "display_data"
    }
   ],
   "source": [
    "importance = rf_clf.feature_importances_\n",
    "plt.bar(range(4), importance, tick_label = ['Sepal_Length', 'Sepal_Width', 'Petal_Length', 'Petal_Width'])\n",
    "plt.xticks(rotation=90)\n",
    "plt.ylabel('Feature importance')"
   ]
  },
  {
   "cell_type": "markdown",
   "id": "6ead5e7b",
   "metadata": {},
   "source": [
    "Examine the plot displayed above. Notice that the Speal_Lenght and Sepal_Width have rather low importance.\n",
    "\n",
    "Should these features be dropped from the model? To find out, you will create a model with a reduced feature set and compare the results. As a first step, execute the code in the cell below to create training and test datasets using the reduced features."
   ]
  },
  {
   "cell_type": "markdown",
   "id": "94b6ef7b",
   "metadata": {},
   "source": [
    "### Creating a Random Forest with reduce number of features "
   ]
  },
  {
   "cell_type": "code",
   "execution_count": 12,
   "id": "81a776b4",
   "metadata": {},
   "outputs": [],
   "source": [
    "## Create reduced feature set\n",
    "Features = np.array(iris[['Petal_Length', 'Petal_Width']])\n",
    "\n",
    "## Randomly sample cases to create independent training and test data\n",
    "nr.seed(1115)\n",
    "indx = range(Features.shape[0])\n",
    "indx = ms.train_test_split(indx, test_size = 100)\n",
    "X_train = Features[indx[0],:]\n",
    "y_train = np.ravel(Labels[indx[0]])\n",
    "X_test = Features[indx[1],:]\n",
    "y_test = np.ravel(Labels[indx[1]])"
   ]
  },
  {
   "cell_type": "markdown",
   "id": "32e8a7e9",
   "metadata": {},
   "source": [
    "Next, execute the code in the cell below to define the model, fit the model, score the model and print the results. We changed the number of estimators to 40."
   ]
  },
  {
   "cell_type": "code",
   "execution_count": 16,
   "id": "4ef88029",
   "metadata": {},
   "outputs": [
    {
     "name": "stdout",
     "output_type": "stream",
     "text": [
      "                 Confusion matrix\n",
      "                 Score Setosa   Score Versicolor    Score Virginica\n",
      "Actual Setosa          35                0                 0\n",
      "Actual Versicolor       0               30                 4\n",
      "Actual Vriginica        0                1                30\n",
      "\n",
      "Accuracy        0.95\n",
      " \n",
      "          Setosa  Versicolor  Virginica\n",
      "Num case   35.00     34.00      31.00\n",
      "Precision   1.00      0.97       0.88\n",
      "Recall      1.00      0.88       0.97\n",
      "F1          1.00      0.92       0.92\n"
     ]
    }
   ],
   "source": [
    "nr.seed(444)\n",
    "rf_clf = RandomForestClassifier(n_estimators=40)\n",
    "rf_clf.fit(X_train, y_train)\n",
    "scores = rf_clf.predict(X_test)\n",
    "print_metrics_3(y_test, scores) "
   ]
  },
  {
   "cell_type": "markdown",
   "id": "44ed7ad2",
   "metadata": {},
   "source": [
    "Take away \n",
    "\n",
    "* We observed little improvemnt in performance when the number of estimators increased in this example\n",
    "\n",
    "* By considering 2 most important features we were able to get the same accuracy as full feature set \n"
   ]
  },
  {
   "cell_type": "markdown",
   "id": "153e7a12",
   "metadata": {},
   "source": [
    "Resource:\n",
    "\n",
    "\n",
    "https://github.com/MicrosoftLearning/Principles-of-Machine-Learning-Python/blob/master/Module6/Bagging.ipynb"
   ]
  },
  {
   "cell_type": "raw",
   "id": "808675cd",
   "metadata": {},
   "source": []
  },
  {
   "cell_type": "code",
   "execution_count": null,
   "id": "e1e50a25",
   "metadata": {},
   "outputs": [],
   "source": []
  }
 ],
 "metadata": {
  "kernelspec": {
   "display_name": "Python 3 (ipykernel)",
   "language": "python",
   "name": "python3"
  },
  "language_info": {
   "codemirror_mode": {
    "name": "ipython",
    "version": 3
   },
   "file_extension": ".py",
   "mimetype": "text/x-python",
   "name": "python",
   "nbconvert_exporter": "python",
   "pygments_lexer": "ipython3",
   "version": "3.8.5"
  }
 },
 "nbformat": 4,
 "nbformat_minor": 5
}
